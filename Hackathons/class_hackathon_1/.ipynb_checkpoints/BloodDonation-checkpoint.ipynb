{
 "cells": [
  {
   "cell_type": "code",
   "execution_count": 8,
   "metadata": {
    "scrolled": true
   },
   "outputs": [],
   "source": [
    "import pandas as pd\n",
    "import csv\n",
    "def showdata(n,enterd,x=None):\n",
    "    df = pd.read_csv('blood_donation.csv')\n",
    "    if n==1:\n",
    "        print(df[df[\"Blood Group\"]==enterd])\n",
    "    elif n==2 and x==1:\n",
    "        print(df[df[\"Name\"]==enterd])\n",
    "    elif n==3 and x==1 and enterd == \"all data\":\n",
    "        print(df)\n",
    "    else:\n",
    "        print('please type again correctly')\n",
    "def admin(Name,Age,Phone,Blood,Date):\n",
    "    with open(r'blood_donation.csv', 'a', newline='') as csvfile:\n",
    "        fieldnames = ['Name','Age',\"Phone\",'Blood Group','D.O.B']\n",
    "        writer = csv.DictWriter(csvfile, fieldnames=fieldnames)\n",
    "        writer.writerow({'Name':Name,'Age':Age,\"Phone\":Phone,'Blood Group':Blood,'D.O.B':Date})"
   ]
  },
  {
   "cell_type": "code",
   "execution_count": null,
   "metadata": {
    "scrolled": false
   },
   "outputs": [],
   "source": [
    "n=1111\n",
    "while n!=0:\n",
    "    n=int(input('enter\\t 1: Admin \\t 2: User \\t 0:Exit\\n'))\n",
    "    if n==1:\n",
    "        print(\"******Admin*******\\n\")\n",
    "        adminn=int(input(\"1: To add donar\\t2:To show data\\n\"))\n",
    "        if adminn==1:\n",
    "            Name=input(\"enter name of the donar:\\t\")\n",
    "            Age=input('enter age:\\t')\n",
    "            Phone=input(\"enter phone number:\\t\")\n",
    "            Blood=input(\"enter blood group:\\t\").capitalize()\n",
    "            Date= input(\"enter D.O.B DD-MM-YYYY:\\t\")\n",
    "            print(\"\\n\")\n",
    "            admin(Name,Age,Phone,Blood,Date)\n",
    "        elif adminn==2 :\n",
    "            nn=int(input(\"Enter\\n1: Show by blood group\\n2: Show by name \\n3:show all data\\n\"))\n",
    "            if nn==1:\n",
    "                enterd=input().capitalize()\n",
    "            elif nn==2:\n",
    "                enterd=str(input(\"enter Name\\n\"))\n",
    "            elif nn==3:\n",
    "                print(\"All data\\n\")\n",
    "                enterd=\"all data\"\n",
    "            print(\"\\n\")\n",
    "            showdata(nn,enterd,1)\n",
    "    elif n==2:\n",
    "        print(\"******User*******\\n\")\n",
    "        enterd=input(\"enter blood group to search:\\t\").capitalize()\n",
    "        print(\"\\n\")\n",
    "        showdata(1,enterd)\n",
    "        "
   ]
  }
 ],
 "metadata": {
  "kernelspec": {
   "display_name": "Python 3",
   "language": "python",
   "name": "python3"
  },
  "language_info": {
   "codemirror_mode": {
    "name": "ipython",
    "version": 3
   },
   "file_extension": ".py",
   "mimetype": "text/x-python",
   "name": "python",
   "nbconvert_exporter": "python",
   "pygments_lexer": "ipython3",
   "version": "3.7.6"
  }
 },
 "nbformat": 4,
 "nbformat_minor": 4
}
